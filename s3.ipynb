{
 "cells": [
  {
   "cell_type": "markdown",
   "id": "2cca8e54-d3da-4a0e-bca7-f689477b7bfe",
   "metadata": {},
   "source": [
    "# Stockage compatible S3 avec MinIO"
   ]
  },
  {
   "cell_type": "code",
   "execution_count": null,
   "id": "aa95c938-7f56-49f5-8749-18a099079bec",
   "metadata": {
    "tags": []
   },
   "outputs": [],
   "source": [
    "import os\n",
    "import io\n",
    "from IPython.display import Image\n",
    "from IPython.core.display import HTML\n",
    "\n",
    "import s3fs\n",
    "import boto3\n",
    "import pandas as pd"
   ]
  },
  {
   "cell_type": "markdown",
   "id": "8a50c037-301f-4cfe-9ab6-57f65e3e54c1",
   "metadata": {},
   "source": [
    "## Architecture"
   ]
  },
  {
   "cell_type": "code",
   "execution_count": null,
   "id": "84604f83-412d-4c5d-ae50-84cfa9f84a8b",
   "metadata": {
    "tags": []
   },
   "outputs": [],
   "source": [
    "Image(url=\"https://min.io/resources/img/products/encryption-worm.svg\")"
   ]
  },
  {
   "cell_type": "markdown",
   "id": "b2a49b20-59f7-40ad-a870-b8c42d30aa80",
   "metadata": {},
   "source": [
    "## Avantages"
   ]
  },
  {
   "cell_type": "markdown",
   "id": "893dea76-d6c8-49b9-92bf-1151769bbe48",
   "metadata": {},
   "source": [
    "- **Portabilité**\n",
    "- **Autonomie**\n",
    "- **Découplage stockage / moteur de calcul**"
   ]
  },
  {
   "cell_type": "markdown",
   "id": "e71cba4b-987d-48dd-b8b2-4b68d571e956",
   "metadata": {},
   "source": [
    "## Démonstration"
   ]
  },
  {
   "cell_type": "code",
   "execution_count": null,
   "id": "f824bdb3-04e0-4463-83c9-67bd35caa22f",
   "metadata": {
    "tags": []
   },
   "outputs": [],
   "source": [
    "!mc ls s3"
   ]
  },
  {
   "cell_type": "code",
   "execution_count": null,
   "id": "d3e9ab30-2bf7-40ba-bcee-dcb22e37a2b3",
   "metadata": {
    "tags": []
   },
   "outputs": [],
   "source": [
    "!mc ls s3/projet-onyxia/demo/rp"
   ]
  },
  {
   "cell_type": "markdown",
   "id": "75950e58-58b9-4639-8864-51d6ca556e5c",
   "metadata": {},
   "source": [
    "### Déclaration du endpoint"
   ]
  },
  {
   "cell_type": "markdown",
   "id": "3ac3224e-181d-4950-9246-241e4fe1f3e1",
   "metadata": {},
   "source": [
    "Les paramètres d'authentification auprès de MinIO sont injectés comme variables d'environnement dans les différents services du Datalab."
   ]
  },
  {
   "cell_type": "code",
   "execution_count": null,
   "id": "95ce4fcf-885d-4d96-9387-823f046f26c0",
   "metadata": {
    "tags": []
   },
   "outputs": [],
   "source": [
    "endpoint_url='https://' + os.environ['AWS_S3_ENDPOINT']\n",
    "print(endpoint_url)"
   ]
  },
  {
   "cell_type": "code",
   "execution_count": null,
   "id": "d617346f-612c-46d5-8d76-cc218cf4adc0",
   "metadata": {
    "tags": []
   },
   "outputs": [],
   "source": [
    "print(os.environ['MC_HOST_s3'])"
   ]
  },
  {
   "cell_type": "markdown",
   "id": "c4c012ca-363c-4dc8-b363-4940b5e76695",
   "metadata": {},
   "source": [
    "### Importer les données en Python"
   ]
  },
  {
   "cell_type": "markdown",
   "id": "b0438fb5-a75f-440e-bc60-952e836596b5",
   "metadata": {},
   "source": [
    "#### Mode authentifié"
   ]
  },
  {
   "cell_type": "code",
   "execution_count": null,
   "id": "b551fe55-9743-491c-ba6f-44a3350f6acc",
   "metadata": {
    "tags": []
   },
   "outputs": [],
   "source": [
    "fs = s3fs.S3FileSystem(client_kwargs={'endpoint_url': endpoint_url})\n",
    "\n",
    "with fs.open('projet-onyxia/demo/rp/sample.csv','r') as file:\n",
    "    data = pd.read_csv(file, sep=\";\")\n",
    "\n",
    "data.head(5)"
   ]
  },
  {
   "cell_type": "markdown",
   "id": "83ad94be-ad1b-4433-b6cf-0418662346af",
   "metadata": {},
   "source": [
    "#### Mode public"
   ]
  },
  {
   "cell_type": "code",
   "execution_count": null,
   "id": "34a05b56-4bfa-4878-942a-5fefd4bfecad",
   "metadata": {
    "tags": []
   },
   "outputs": [],
   "source": [
    "URL = \"https://minio.lab.sspcloud.fr/projet-onyxia/demo/rp/sample.csv\"\n",
    "data2 = pd.read_csv(URL, sep=\";\")\n",
    "data2.head(5)"
   ]
  },
  {
   "cell_type": "markdown",
   "id": "e4142231-1f2a-4a1a-88ae-4a40d56b6b22",
   "metadata": {},
   "source": [
    "### Exporter les données transformées vers MinIO"
   ]
  },
  {
   "cell_type": "code",
   "execution_count": null,
   "id": "cd2860dd-007f-47cf-a4b9-964b585bbde9",
   "metadata": {
    "tags": []
   },
   "outputs": [],
   "source": [
    "rf_sub = data[data[\"departement_residence\"] == \"33\"]\n",
    "rf_sub.head()"
   ]
  },
  {
   "cell_type": "code",
   "execution_count": null,
   "id": "84a45e03-07af-4cef-a98a-36c2c7b6fb42",
   "metadata": {
    "tags": []
   },
   "outputs": [],
   "source": [
    "BUCKET_OUT = \"avouacr\"\n",
    "FILE_KEY_OUT_S3 = \"demo/rp_sub.csv\"\n",
    "FILE_PATH_OUT_S3 = BUCKET_OUT + \"/\" + FILE_KEY_OUT_S3\n",
    "\n",
    "with fs.open(FILE_PATH_OUT_S3, 'w') as file_out:\n",
    "    rf_sub.to_csv(file_out)"
   ]
  },
  {
   "cell_type": "code",
   "execution_count": null,
   "id": "4fefeeac-5246-4832-9972-231cd56afc0a",
   "metadata": {
    "tags": []
   },
   "outputs": [],
   "source": [
    "!mc ls s3/avouacr/demo/"
   ]
  },
  {
   "cell_type": "code",
   "execution_count": null,
   "id": "669ed7ec-02a4-4bc4-82bf-798646e49fbd",
   "metadata": {},
   "outputs": [],
   "source": []
  }
 ],
 "metadata": {
  "kernelspec": {
   "display_name": "Python 3 (ipykernel)",
   "language": "python",
   "name": "python3"
  },
  "language_info": {
   "codemirror_mode": {
    "name": "ipython",
    "version": 3
   },
   "file_extension": ".py",
   "mimetype": "text/x-python",
   "name": "python",
   "nbconvert_exporter": "python",
   "pygments_lexer": "ipython3",
   "version": "3.10.9"
  }
 },
 "nbformat": 4,
 "nbformat_minor": 5
}
